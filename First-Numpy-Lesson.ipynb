{
 "cells": [
  {
   "cell_type": "code",
   "execution_count": 18,
   "metadata": {},
   "outputs": [
    {
     "ename": "SyntaxError",
     "evalue": "invalid syntax (<ipython-input-18-be440d2bd4c5>, line 40)",
     "output_type": "error",
     "traceback": [
      "\u001b[0;36m  File \u001b[0;32m\"<ipython-input-18-be440d2bd4c5>\"\u001b[0;36m, line \u001b[0;32m40\u001b[0m\n\u001b[0;31m    t = np.array([[[[1], [2]], [[3], [4]], [[5], [6]]], [[[7], [8]],     [[9], [10]], [[11], [12]]], [[[13], [14]], [[15], [16]], [[17], [17]]]]])\u001b[0m\n\u001b[0m                                                                                                                                                ^\u001b[0m\n\u001b[0;31mSyntaxError\u001b[0m\u001b[0;31m:\u001b[0m invalid syntax\n"
     ]
    }
   ],
   "source": [
    "import numpy as np\n",
    "\n",
    "#create numpy array\n",
    "s = np.array(5)\n",
    "\n",
    "#find shape of scalar - empty for this\n",
    "print(s.shape)\n",
    "\n",
    "#add a number to the scalar array\n",
    "x = s + 3\n",
    "print(x)\n",
    "\n",
    "#type is int64 in numpy\n",
    "print(type(x))\n",
    "\n",
    "#create a vector\n",
    "v = np.array([1,2,3])\n",
    "\n",
    "#shape is (3,)\n",
    "print(v.shape)\n",
    "\n",
    "#access second element within vector\n",
    "x = v[1]\n",
    "print(x)\n",
    "\n",
    "#access items in vector from second element onwards\n",
    "v[1:]\n",
    "\n",
    "#create a matrix\n",
    "m = np.array([[1,2,3], [4,5,6], [7,8,9]])\n",
    "\n",
    "m.shape\n",
    "\n",
    "#access third element of second matrix\n",
    "m[1][2]\n",
    "\n",
    "#tensors are like vectors and matrices, but they can have more dimensions\n",
    "#e.g. to create a 3x3x2x1 tensor, do this:\n",
    "\n",
    "t = np.array([[[[1], [2]], [[3], [4]], [[5], [6]]], [[[7], [8]], \\\n",
    "    [[9], [10]], [[11], [12]]], [[[13], [14]], [[15], [16]], [[17], [17]]]]])\n",
    "\n",
    "t.shape\n"
   ]
  }
 ],
 "metadata": {
  "kernelspec": {
   "display_name": "Python 3",
   "language": "python",
   "name": "python3"
  },
  "language_info": {
   "codemirror_mode": {
    "name": "ipython",
    "version": 3
   },
   "file_extension": ".py",
   "mimetype": "text/x-python",
   "name": "python",
   "nbconvert_exporter": "python",
   "pygments_lexer": "ipython3",
   "version": "3.6.2"
  }
 },
 "nbformat": 4,
 "nbformat_minor": 2
}
